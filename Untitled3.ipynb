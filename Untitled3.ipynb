{
 "cells": [
  {
   "cell_type": "code",
   "execution_count": null,
   "id": "c998ebb6",
   "metadata": {},
   "outputs": [],
   "source": [
    "import json\n",
    "import requests\n",
    "a=requests.get(\"https://openapi.twse.com.tw/v1/opendata/t187ap14_L\")\n",
    "b=a.json()\n",
    "for a in b:\n",
    "    \n",
    "        print(a['出表日期'],a['公司代號'], a['公司名稱'], a['基本每股盈餘(元)'])"
   ]
  },
  {
   "cell_type": "code",
   "execution_count": 34,
   "id": "2c8aa1d9",
   "metadata": {},
   "outputs": [
    {
     "name": "stdout",
     "output_type": "stream",
     "text": [
      "日期 本益比 股價淨值比\n",
      "111年06月01日 21.58 6.15\n",
      "111年06月02日 21.23 6.05\n",
      "111年06月06日 21.23 6.05\n",
      "111年06月07日 21.03 5.99\n",
      "111年06月08日 21.38 6.09\n",
      "111年06月09日 21.27 6.06\n",
      "111年06月10日 20.83 5.94\n",
      "111年06月13日 20.28 5.78\n",
      "111年06月14日 20.17 5.75\n",
      "111年06月15日 20.01 5.70\n",
      "111年06月16日 19.97 5.69\n",
      "111年06月17日 19.69 5.61\n",
      "111年06月20日 19.58 5.58\n",
      "111年06月21日 19.85 5.66\n",
      "111年06月22日 19.44 5.54\n",
      "111年06月23日 19.08 5.44\n",
      "111年06月24日 19.12 5.45\n",
      "111年06月27日 19.60 5.58\n",
      "111年06月28日 19.56 5.57\n",
      "111年06月29日 19.30 5.50\n",
      "111年06月30日 18.71 5.33\n"
     ]
    }
   ],
   "source": [
    "import json\n",
    "import requests\n",
    "a=requests.get(\"https://www.twse.com.tw/exchangeReport/BWIBBU?response=json&date=20220601&stockNo=2330\")\n",
    "b=a.json()\n",
    "print(b[\"fields\"][0],b[\"fields\"][3], b[\"fields\"][4])\n",
    "for c in b['data']:\n",
    "    print(c[0],c[3],c[4])"
   ]
  }
 ],
 "metadata": {
  "kernelspec": {
   "display_name": "Python 3 (ipykernel)",
   "language": "python",
   "name": "python3"
  },
  "language_info": {
   "codemirror_mode": {
    "name": "ipython",
    "version": 3
   },
   "file_extension": ".py",
   "mimetype": "text/x-python",
   "name": "python",
   "nbconvert_exporter": "python",
   "pygments_lexer": "ipython3",
   "version": "3.9.12"
  }
 },
 "nbformat": 4,
 "nbformat_minor": 5
}
